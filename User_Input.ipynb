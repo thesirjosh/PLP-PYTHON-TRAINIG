{
  "nbformat": 4,
  "nbformat_minor": 0,
  "metadata": {
    "colab": {
      "provenance": [],
      "authorship_tag": "ABX9TyNMUk+YCGoFgOFGFuzMPapJ",
      "include_colab_link": true
    },
    "kernelspec": {
      "name": "python3",
      "display_name": "Python 3"
    },
    "language_info": {
      "name": "python"
    }
  },
  "cells": [
    {
      "cell_type": "markdown",
      "metadata": {
        "id": "view-in-github",
        "colab_type": "text"
      },
      "source": [
        "<a href=\"https://colab.research.google.com/github/thesirjosh/PLP-PYTHON-TRAINIG/blob/main/User_Input.ipynb\" target=\"_parent\"><img src=\"https://colab.research.google.com/assets/colab-badge.svg\" alt=\"Open In Colab\"/></a>"
      ]
    },
    {
      "cell_type": "code",
      "execution_count": null,
      "metadata": {
        "id": "pH5c09cxt6sp"
      },
      "outputs": [],
      "source": [
        "#Get the following information using input function (name, age and lovation)"
      ]
    },
    {
      "cell_type": "code",
      "source": [
        "#Get the following information using the input function from the user (name, age and location)\n",
        "name=input(\"Enter your Full Name:\")\n",
        "age= input(\"Enter your Age:\")\n",
        "location=input(\"Enter your location:\")\n",
        "#Print a personalized message\n",
        "print(\"Hello \" + name + \" you are \" + age +\" years old and live in \" + location)"
      ],
      "metadata": {
        "colab": {
          "base_uri": "https://localhost:8080/"
        },
        "id": "_6Y_1S8BuHcG",
        "outputId": "538b3c94-ca1c-4f3f-eda2-81e08a592bc2"
      },
      "execution_count": 6,
      "outputs": [
        {
          "output_type": "stream",
          "name": "stdout",
          "text": [
            "Enter your Full Name:Joshua David\n",
            "Enter your Age:22\n",
            "Enter your location:Abuja\n",
            "Hello Joshua David you are 22 years old and live in Abuja\n"
          ]
        }
      ]
    }
  ]
}